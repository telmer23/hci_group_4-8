{
 "cells": [
  {
   "cell_type": "code",
   "execution_count": 409,
   "metadata": {},
   "outputs": [],
   "source": [
    "import sys\n",
    "\n",
    "if 'sympy' not in sys.modules:\n",
    "  assert('Install sympy with - pip install sympy')\n",
    "\n",
    "from sympy import Matrix, Symbol, sqrt, solve, Eq, expand, pi, print_latex, latex\n",
    "from IPython.display import Markdown as md\n",
    "from IPython.core.interactiveshell import InteractiveShell as shell\n",
    "shell.ast_node_interactivity = 'all'\n",
    "\n",
    "def crossP(vec1, vec2):\n",
    "  return vec1.col(0).cross(vec2)\n",
    "\n",
    "# generate cross product as latex\n",
    "def crossPL(vec1, vec2):\n",
    "  return f'${latex(expand(vec1))} \\\\times {latex(expand(vec2))}$'\n",
    "\n",
    "def crossPLs(vec1, vec2):\n",
    "  return f'${latex(expand(vec1.col(0).cross(vec2)))}$'"
   ]
  },
  {
   "attachments": {},
   "cell_type": "markdown",
   "metadata": {},
   "source": [
    "## Angabe des Systems\n",
    "![alternatvie text](src/system.png)"
   ]
  },
  {
   "attachments": {},
   "cell_type": "markdown",
   "metadata": {},
   "source": [
    "## Angabe der Kräfte\n",
    "\n",
    "$$ F_C = \\sqrt{2}LC $$\n",
    "$$ qV_1(s_1) = q $$\n",
    "$$ qV_3(s_3) = \\frac{qx_3}{L} $$\n",
    "$$ qz_4(s_4) = q $$"
   ]
  },
  {
   "cell_type": "code",
   "execution_count": 410,
   "metadata": {},
   "outputs": [],
   "source": [
    "# DEFINE ALL VARIABLES\n",
    "q = Symbol('q')\n",
    "L = Symbol('L')\n",
    "Ay = Symbol('A_y')\n",
    "Cx = Symbol('C_x')\n",
    "Cy = Symbol('C_y')\n",
    "Dx = Symbol('D_x')\n",
    "Ex = Symbol('E_x')\n",
    "Fx = Symbol('F_x')\n",
    "MA = Symbol('M_A')"
   ]
  },
  {
   "cell_type": "code",
   "execution_count": 411,
   "metadata": {},
   "outputs": [
    {
     "data": {
      "text/latex": [
       "$\\displaystyle \\left[\\begin{matrix}\\frac{3 \\sqrt{2} \\pi L q}{8}\\\\- \\frac{3 \\sqrt{2} \\pi L q}{8}\\\\0\\end{matrix}\\right]$"
      ],
      "text/plain": [
       "Matrix([\n",
       "[ 3*sqrt(2)*pi*L*q/8],\n",
       "[-3*sqrt(2)*pi*L*q/8],\n",
       "[                  0]])"
      ]
     },
     "execution_count": 411,
     "metadata": {},
     "output_type": "execute_result"
    },
    {
     "data": {
      "text/latex": [
       "$\\displaystyle \\left[\\begin{matrix}0\\\\- \\frac{\\sqrt{3} L q}{2}\\\\0\\end{matrix}\\right]$"
      ],
      "text/plain": [
       "Matrix([\n",
       "[             0],\n",
       "[-sqrt(3)*L*q/2],\n",
       "[             0]])"
      ]
     },
     "execution_count": 411,
     "metadata": {},
     "output_type": "execute_result"
    },
    {
     "data": {
      "text/latex": [
       "$\\displaystyle \\left[\\begin{matrix}0\\\\- \\frac{\\sqrt{3} q}{4}\\\\0\\end{matrix}\\right]$"
      ],
      "text/plain": [
       "Matrix([\n",
       "[           0],\n",
       "[-sqrt(3)*q/4],\n",
       "[           0]])"
      ]
     },
     "execution_count": 411,
     "metadata": {},
     "output_type": "execute_result"
    },
    {
     "data": {
      "text/latex": [
       "$\\displaystyle \\frac{3 \\pi \\sqrt{L^{2} q^{2}}}{4}$"
      ],
      "text/plain": [
       "3*pi*sqrt(L**2*q**2)/4"
      ]
     },
     "execution_count": 411,
     "metadata": {},
     "output_type": "execute_result"
    }
   ],
   "source": [
    "# SETUP ALL VECTORS\n",
    "R_1 = Matrix([sqrt(2)/2 * 3*pi*L*q/4, -sqrt(2)/2 * 3*pi*L*q/4,0])\n",
    "R_2 = Matrix([0, -sqrt(3)*L/2*q, 0])\n",
    "R_3 = Matrix([0,-sqrt(3)*q/4,0])\n",
    "x_R3 = Matrix([L/sqrt(3),0,0])\n",
    "\n",
    "F_c = Matrix([q*L, q*L,0])\n",
    "\n",
    "A = Matrix([0,Ay,0])\n",
    "C = Matrix([-Cx,-Cy, 0])\n",
    "D = Matrix([Dx,0,0])\n",
    "E = Matrix([Ex,0,0])\n",
    "F = Matrix([Fx,0,0])\n",
    "M_A = Matrix([0,0,MA])\n",
    "\n",
    "R_1\n",
    "R_2\n",
    "R_3\n",
    "\n",
    "sqrt(R_1[0]**2 + R_1[1]**2)"
   ]
  },
  {
   "attachments": {},
   "cell_type": "markdown",
   "metadata": {},
   "source": [
    "-----\n",
    "### Berechnung von Auflager $D_x$"
   ]
  },
  {
   "cell_type": "code",
   "execution_count": 412,
   "metadata": {},
   "outputs": [
    {
     "data": {
      "text/latex": [
       "$\\displaystyle \\left[\\begin{matrix}- \\frac{q}{2}\\\\0\\\\0\\end{matrix}\\right]$"
      ],
      "text/plain": [
       "Matrix([\n",
       "[-q/2],\n",
       "[   0],\n",
       "[   0]])"
      ]
     },
     "execution_count": 412,
     "metadata": {},
     "output_type": "execute_result"
    }
   ],
   "source": [
    "x_Dx = Matrix([0,L/2,0])\n",
    "tmp = (crossP(x_R3, R_3) + crossP(x_Dx, D)).row(2)\n",
    "\n",
    "D[0] = solve(tmp, Dx).popitem()[1]\n",
    "D"
   ]
  },
  {
   "attachments": {},
   "cell_type": "markdown",
   "metadata": {},
   "source": [
    "-----\n",
    "### Berechnung von Auflager $C$\n",
    "#### 1. $C_y$"
   ]
  },
  {
   "cell_type": "code",
   "execution_count": 413,
   "metadata": {},
   "outputs": [
    {
     "data": {
      "text/latex": [
       "$\\displaystyle \\left[\\begin{matrix}- C_{x}\\\\- L q + \\frac{\\sqrt{3} q}{4}\\\\0\\end{matrix}\\right]$"
      ],
      "text/plain": [
       "Matrix([\n",
       "[              -C_x],\n",
       "[-L*q + sqrt(3)*q/4],\n",
       "[                 0]])"
      ]
     },
     "execution_count": 413,
     "metadata": {},
     "output_type": "execute_result"
    }
   ],
   "source": [
    "t = solve(C[1]+F_c[1]+R_3[1], Cy)\n",
    "C[1] = -expand(t[0])\n",
    "C"
   ]
  },
  {
   "attachments": {},
   "cell_type": "markdown",
   "metadata": {},
   "source": [
    "#### 2. $C_x$"
   ]
  },
  {
   "cell_type": "code",
   "execution_count": 414,
   "metadata": {},
   "outputs": [
    {
     "data": {
      "text/latex": [
       "$\\displaystyle \\left[\\begin{matrix}- L q + \\frac{q}{2}\\\\- L q + \\frac{\\sqrt{3} q}{4}\\\\0\\end{matrix}\\right]$"
      ],
      "text/plain": [
       "Matrix([\n",
       "[        -L*q + q/2],\n",
       "[-L*q + sqrt(3)*q/4],\n",
       "[                 0]])"
      ]
     },
     "execution_count": 414,
     "metadata": {},
     "output_type": "execute_result"
    }
   ],
   "source": [
    "x_Dx = Matrix([0, L, 0])\n",
    "x_R3 = Matrix([-L/(2*sqrt(3)),0,0])\n",
    "d_Fc = Matrix([-sqrt(3)*L/2, L/2, 0])\n",
    "d_C  = Matrix([-sqrt(3)*L/2, L/2, 0])\n",
    "\n",
    "tmp = (crossP(x_Dx, D)+crossP(x_R3, R_3)+crossP(d_Fc, F_c)+crossP(d_C, C)).row(2)\n",
    "C[0] = -solve(tmp, Cx).popitem()[1]\n",
    "\n",
    "C\n"
   ]
  },
  {
   "attachments": {},
   "cell_type": "markdown",
   "metadata": {},
   "source": [
    "----\n",
    "### Berechnung von Auflager $A$\n",
    "#### 1. $A_x$\n",
    "$ +\\uparrow \\sum{F_y} \\stackrel{!}{=} 0 $"
   ]
  },
  {
   "cell_type": "code",
   "execution_count": 415,
   "metadata": {},
   "outputs": [
    {
     "data": {
      "text/latex": [
       "$\\displaystyle \\left[\\begin{matrix}0\\\\- L q + \\frac{\\sqrt{3} L q}{2} + \\frac{3 \\sqrt{2} \\pi L q}{8} + \\frac{\\sqrt{3} q}{4}\\\\0\\end{matrix}\\right]$"
      ],
      "text/plain": [
       "Matrix([\n",
       "[                                                      0],\n",
       "[-L*q + sqrt(3)*L*q/2 + 3*sqrt(2)*pi*L*q/8 + sqrt(3)*q/4],\n",
       "[                                                      0]])"
      ]
     },
     "execution_count": 415,
     "metadata": {},
     "output_type": "execute_result"
    }
   ],
   "source": [
    "tmp = A[1]+R_1[1]+R_2[1]+F_c[1]+R_3[1]\n",
    "A[1] = expand(solve(tmp, Ay)[0])\n",
    "A"
   ]
  },
  {
   "attachments": {},
   "cell_type": "markdown",
   "metadata": {},
   "source": [
    "#### 2. $M_A$\n",
    "$ \\stackrel{\\curvearrowleft}{+} \\sum{M_G} \\stackrel{!}{=} 0 $"
   ]
  },
  {
   "cell_type": "code",
   "execution_count": 416,
   "metadata": {},
   "outputs": [
    {
     "data": {
      "text/markdown": [
       "$\\left[\\begin{matrix}- \\frac{\\sqrt{3} L}{4}\\\\\\frac{7 L}{4}\\\\0\\end{matrix}\\right] \\times \\left[\\begin{matrix}0\\\\- \\frac{\\sqrt{3} L q}{2}\\\\0\\end{matrix}\\right]$ + $\\left[\\begin{matrix}- \\frac{\\sqrt{3} L}{2}\\\\\\frac{7 L}{4}\\\\0\\end{matrix}\\right] \\times \\left[\\begin{matrix}0\\\\- L q + \\frac{\\sqrt{3} L q}{2} + \\frac{3 \\sqrt{2} \\pi L q}{8} + \\frac{\\sqrt{3} q}{4}\\\\0\\end{matrix}\\right]$ + $\\left[\\begin{matrix}L\\\\\\frac{3 L}{2}\\\\0\\end{matrix}\\right] \\times \\left[\\begin{matrix}L q\\\\L q\\\\0\\end{matrix}\\right]$ + $\\left[\\begin{matrix}L\\\\\\frac{3 L}{2}\\\\0\\end{matrix}\\right] \\times \\left[\\begin{matrix}L q - \\frac{q}{2}\\\\L q - \\frac{\\sqrt{3} q}{4}\\\\0\\end{matrix}\\right]$ + $\\left[\\begin{matrix}0\\\\0\\\\M_{A}\\end{matrix}\\right]$"
      ],
      "text/plain": [
       "<IPython.core.display.Markdown object>"
      ]
     },
     "execution_count": 416,
     "metadata": {},
     "output_type": "execute_result"
    },
    {
     "data": {
      "text/markdown": [
       "$\\left[\\begin{matrix}0\\\\0\\\\\\frac{3 L^{2} q}{8}\\end{matrix}\\right]$ + $\\left[\\begin{matrix}0\\\\0\\\\- \\frac{3 \\sqrt{6} \\pi L^{2} q}{16} - \\frac{3 L^{2} q}{4} + \\frac{\\sqrt{3} L^{2} q}{2} - \\frac{3 L q}{8}\\end{matrix}\\right]$ + $\\left[\\begin{matrix}0\\\\0\\\\- \\frac{L^{2} q}{2}\\end{matrix}\\right]$ + $\\left[\\begin{matrix}0\\\\0\\\\- \\frac{L^{2} q}{2} - \\frac{\\sqrt{3} L q}{4} + \\frac{3 L q}{4}\\end{matrix}\\right]$ + $\\left[\\begin{matrix}0\\\\0\\\\M_{A}\\end{matrix}\\right]$"
      ],
      "text/plain": [
       "<IPython.core.display.Markdown object>"
      ]
     },
     "execution_count": 416,
     "metadata": {},
     "output_type": "execute_result"
    }
   ],
   "source": [
    "d_A  = Matrix([-sqrt(3)*L/2, (L+L/2+L/4), 0])\n",
    "d_R2 = Matrix([-sqrt(3)*L/4, (L+L/2+L/4), 0])\n",
    "d_C  = Matrix([L, (L+L/2), 0])\n",
    "d_Fc = Matrix([L, (L+L/2), 0])\n",
    "\n",
    "tmp = crossP(d_R2, R_2) + crossP(d_A, A) + crossP(d_Fc, F_c) + crossP(d_C, C*(-1)) + M_A\n",
    "md(f'{crossPL(d_R2, R_2)} + {crossPL(d_A, A)} + {crossPL(d_Fc, F_c)} + {crossPL(d_C, C*(-1))} + ${latex(M_A)}$')\n",
    "md(f'{crossPLs(d_R2, R_2)} + {crossPLs(d_A, A)} + {crossPLs(d_Fc, F_c)} + {crossPLs(d_C, C*(-1))} + ${latex(M_A)}$')\n",
    "# M_A[2] = solve(tmp, MA).popitem()[1]\n",
    "hmm_1 = expand(solve(tmp, MA).popitem()[1])"
   ]
  },
  {
   "attachments": {},
   "cell_type": "markdown",
   "metadata": {},
   "source": [
    "-----\n",
    "### Berechnung von Auflager $F_x$\n",
    "$ \\stackrel{+}{\\rightarrow} \\sum{F_x} \\stackrel{!}{=} 0 $\n",
    "\n",
    "$ C_x + F_x + D_x + F_x = 0 $"
   ]
  },
  {
   "cell_type": "code",
   "execution_count": 417,
   "metadata": {},
   "outputs": [
    {
     "data": {
      "text/latex": [
       "$\\displaystyle \\left[\\begin{matrix}0\\\\0\\\\0\\end{matrix}\\right]$"
      ],
      "text/plain": [
       "Matrix([\n",
       "[0],\n",
       "[0],\n",
       "[0]])"
      ]
     },
     "execution_count": 417,
     "metadata": {},
     "output_type": "execute_result"
    }
   ],
   "source": [
    "tmp = C[0]+F_c[0]+D[0]+F[0]\n",
    "F[0] = solve(tmp, Fx)\n",
    "F"
   ]
  },
  {
   "attachments": {},
   "cell_type": "markdown",
   "metadata": {},
   "source": [
    "$ \\stackrel{\\curvearrowleft}{+} \\sum{M_D} = 0 $"
   ]
  },
  {
   "cell_type": "code",
   "execution_count": 418,
   "metadata": {},
   "outputs": [
    {
     "data": {
      "text/latex": [
       "$\\displaystyle 0$"
      ],
      "text/plain": [
       "0"
      ]
     },
     "execution_count": 418,
     "metadata": {},
     "output_type": "execute_result"
    }
   ],
   "source": [
    "d_R3 = Matrix([-(sqrt(3)*L/(2*3)), -L/4, 0])\n",
    "d_C = Matrix([-sqrt(3)*L/2, -L/2, 0])\n",
    "d_Fc = Matrix([-sqrt(3)*L/2, -L/2, 0])\n",
    "d_F = Matrix([0, -L, 0])\n",
    "\n",
    "tmp = crossP(d_R3, R_3) + crossP(d_C, C) + crossP(d_Fc, F_c) + crossP(d_F, Matrix([Fx, 0, 0]))\n",
    "# F[0] = solve(tmp[2], Fx)[0]\n",
    "solve(tmp[2], Fx)[0]\n",
    "# tmp"
   ]
  },
  {
   "attachments": {},
   "cell_type": "markdown",
   "metadata": {},
   "source": [
    "----\n",
    "### Berechnung von Auflager $E_x$\n",
    "$ \\stackrel{+}{\\rightarrow} \\sum{F_x} \\stackrel{!}{=} 0 $"
   ]
  },
  {
   "cell_type": "code",
   "execution_count": 419,
   "metadata": {},
   "outputs": [
    {
     "data": {
      "text/latex": [
       "$\\displaystyle \\left[\\begin{matrix}- \\frac{3 \\sqrt{2} \\pi L q}{8} - L q + \\frac{q}{2}\\\\0\\\\0\\end{matrix}\\right]$"
      ],
      "text/plain": [
       "Matrix([\n",
       "[-3*sqrt(2)*pi*L*q/8 - L*q + q/2],\n",
       "[                              0],\n",
       "[                              0]])"
      ]
     },
     "execution_count": 419,
     "metadata": {},
     "output_type": "execute_result"
    }
   ],
   "source": [
    "tmp = D[0]+F[0]+F_c[0]+R_1[0]+E[0]\n",
    "E[0] = expand(solve(tmp, Ex)[0])\n",
    "E"
   ]
  },
  {
   "attachments": {},
   "cell_type": "markdown",
   "metadata": {},
   "source": [
    "----\n",
    "### Kontrolle durch Summe der Momente um Gelenk $C$\n",
    "$ \\stackrel{\\curvearrowleft}{+} \\sum{M_C} = 0 $ im Gesamtsystem"
   ]
  },
  {
   "cell_type": "code",
   "execution_count": 420,
   "metadata": {},
   "outputs": [
    {
     "data": {
      "text/markdown": [
       "$\\left[\\begin{matrix}- \\frac{5 L}{2}\\\\- \\frac{3 L}{2}\\\\0\\end{matrix}\\right] \\times \\left[\\begin{matrix}0\\\\- L q + \\frac{\\sqrt{3} L q}{2} + \\frac{3 \\sqrt{2} \\pi L q}{8} + \\frac{\\sqrt{3} q}{4}\\\\0\\end{matrix}\\right]$ + $\\left[\\begin{matrix}\\frac{\\sqrt{3} L}{2}\\\\\\frac{L}{2}\\\\0\\end{matrix}\\right] \\times \\left[\\begin{matrix}- \\frac{q}{2}\\\\0\\\\0\\end{matrix}\\right]$ + $\\left[\\begin{matrix}- L - \\frac{\\sqrt{3} L}{2}\\\\\\frac{L}{2}\\\\0\\end{matrix}\\right] \\times \\left[\\begin{matrix}- \\frac{3 \\sqrt{2} \\pi L q}{8} - L q + \\frac{q}{2}\\\\0\\\\0\\end{matrix}\\right]$ + $\\left[\\begin{matrix}\\frac{\\sqrt{3} L}{2}\\\\- \\frac{L}{2}\\\\0\\end{matrix}\\right] \\times \\left[\\begin{matrix}0\\\\0\\\\0\\end{matrix}\\right]$ + $\\left[\\begin{matrix}- \\frac{3 \\sqrt{2} L}{2}\\\\- \\frac{3 L}{2} + \\frac{3 \\sqrt{2} L}{2}\\\\0\\end{matrix}\\right] \\times \\left[\\begin{matrix}\\frac{3 \\sqrt{2} \\pi L q}{8}\\\\- \\frac{3 \\sqrt{2} \\pi L q}{8}\\\\0\\end{matrix}\\right]$ + $\\left[\\begin{matrix}- L - \\frac{\\sqrt{3} L}{4}\\\\\\frac{L}{4}\\\\0\\end{matrix}\\right] \\times \\left[\\begin{matrix}0\\\\- \\frac{\\sqrt{3} L q}{2}\\\\0\\end{matrix}\\right]$ + $\\left[\\begin{matrix}\\frac{\\sqrt{3} L}{3}\\\\0\\\\0\\end{matrix}\\right] \\times \\left[\\begin{matrix}0\\\\- \\frac{\\sqrt{3} q}{4}\\\\0\\end{matrix}\\right]$"
      ],
      "text/plain": [
       "<IPython.core.display.Markdown object>"
      ]
     },
     "execution_count": 420,
     "metadata": {},
     "output_type": "execute_result"
    },
    {
     "data": {
      "text/latex": [
       "$\\displaystyle - \\frac{3 \\sqrt{3} L^{2} q}{4} - \\frac{3 \\sqrt{2} \\pi L^{2} q}{16} + \\frac{27 L^{2} q}{8} - \\frac{5 \\sqrt{3} L q}{8} - \\frac{L q}{4}$"
      ],
      "text/plain": [
       "-3*sqrt(3)*L**2*q/4 - 3*sqrt(2)*pi*L**2*q/16 + 27*L**2*q/8 - 5*sqrt(3)*L*q/8 - L*q/4"
      ]
     },
     "execution_count": 420,
     "metadata": {},
     "output_type": "execute_result"
    },
    {
     "data": {
      "text/latex": [
       "$\\displaystyle \\left[\\begin{matrix}\\frac{3 \\sqrt{2} \\pi L q}{8}\\\\- \\frac{3 \\sqrt{2} \\pi L q}{8}\\\\0\\end{matrix}\\right]$"
      ],
      "text/plain": [
       "Matrix([\n",
       "[ 3*sqrt(2)*pi*L*q/8],\n",
       "[-3*sqrt(2)*pi*L*q/8],\n",
       "[                  0]])"
      ]
     },
     "execution_count": 420,
     "metadata": {},
     "output_type": "execute_result"
    }
   ],
   "source": [
    "# d_R1 = Matrix([-(3*L/2 - 3*L/2*1/sqrt(2)),-(L+3*L/2*1/sqrt(2)),0])\n",
    "d_R1 = Matrix([-(3*L/2*sqrt(2)),-(3*L/2 - 3*L/2*sqrt(2)),0])\n",
    "d_R2 = Matrix([-(L+sqrt(3)*L/4),L/4,0])\n",
    "d_R3 = Matrix([L/sqrt(3),0,0])\n",
    "\n",
    "d_A = Matrix([-(L+3*L/2), -3*L/2, 0])\n",
    "d_D = Matrix([sqrt(3)*L/2, L/2,0])\n",
    "d_E = Matrix([-(L+sqrt(3)*L/2),L/2,0])\n",
    "d_F = Matrix([sqrt(3)*L/2, -L/2,0])\n",
    "\n",
    "tmp = crossP(d_A, A) + crossP(d_D,D) + crossP(d_E, E) + crossP(d_F, F) + crossP(d_R1, R_1) + crossP(d_R2, R_2) + crossP(d_R3, R_3)\n",
    "md(f'{crossPL(d_A, A)} + {crossPL(d_D,D) } + {crossPL(d_E, E)} + {crossPL(d_F, F)} + {crossPL(d_R1, R_1)} + {crossPL(d_R2, R_2)} + {crossPL(d_R3, R_3)}' )\n",
    "expand(tmp[2])\n",
    "\n",
    "R_1"
   ]
  },
  {
   "attachments": {},
   "cell_type": "markdown",
   "metadata": {},
   "source": [
    "\n",
    "$ \\stackrel{\\curvearrowleft}{+} \\sum{M_C} = 0 $ in Freischnitt I"
   ]
  },
  {
   "cell_type": "code",
   "execution_count": 421,
   "metadata": {},
   "outputs": [
    {
     "data": {
      "text/markdown": [
       "$\\left[\\begin{matrix}- \\frac{5 L}{2}\\\\- \\frac{3 L}{2}\\\\0\\end{matrix}\\right] \\times \\left[\\begin{matrix}0\\\\- L q + \\frac{\\sqrt{3} L q}{2} + \\frac{3 \\sqrt{2} \\pi L q}{8} + \\frac{\\sqrt{3} q}{4}\\\\0\\end{matrix}\\right]$ + $\\left[\\begin{matrix}- L - \\frac{\\sqrt{3} L}{2}\\\\\\frac{L}{2}\\\\0\\end{matrix}\\right] \\times \\left[\\begin{matrix}- \\frac{3 \\sqrt{2} \\pi L q}{8} - L q + \\frac{q}{2}\\\\0\\\\0\\end{matrix}\\right]$ + $\\left[\\begin{matrix}- \\frac{3 \\sqrt{2} L}{2}\\\\- \\frac{3 L}{2} + \\frac{3 \\sqrt{2} L}{2}\\\\0\\end{matrix}\\right] \\times \\left[\\begin{matrix}\\frac{3 \\sqrt{2} \\pi L q}{8}\\\\- \\frac{3 \\sqrt{2} \\pi L q}{8}\\\\0\\end{matrix}\\right]$ + $\\left[\\begin{matrix}- L - \\frac{\\sqrt{3} L}{4}\\\\\\frac{L}{4}\\\\0\\end{matrix}\\right] \\times \\left[\\begin{matrix}0\\\\- \\frac{\\sqrt{3} L q}{2}\\\\0\\end{matrix}\\right]$"
      ],
      "text/plain": [
       "<IPython.core.display.Markdown object>"
      ]
     },
     "execution_count": 421,
     "metadata": {},
     "output_type": "execute_result"
    },
    {
     "data": {
      "text/markdown": [
       "$\\left[\\begin{matrix}0\\\\0\\\\- \\frac{15 \\sqrt{2} \\pi L^{2} q}{16} - \\frac{5 \\sqrt{3} L^{2} q}{4} + \\frac{5 L^{2} q}{2} - \\frac{5 \\sqrt{3} L q}{8}\\end{matrix}\\right]$ + $\\left[\\begin{matrix}0\\\\0\\\\\\frac{L^{2} q}{2} + \\frac{3 \\sqrt{2} \\pi L^{2} q}{16} - \\frac{L q}{4}\\end{matrix}\\right]$ + $\\left[\\begin{matrix}0\\\\0\\\\\\frac{9 \\sqrt{2} \\pi L^{2} q}{16}\\end{matrix}\\right]$ + $\\left[\\begin{matrix}0\\\\0\\\\\\frac{3 L^{2} q}{8} + \\frac{\\sqrt{3} L^{2} q}{2}\\end{matrix}\\right]$"
      ],
      "text/plain": [
       "<IPython.core.display.Markdown object>"
      ]
     },
     "execution_count": 421,
     "metadata": {},
     "output_type": "execute_result"
    },
    {
     "data": {
      "text/latex": [
       "$\\displaystyle - \\frac{3 \\sqrt{3} L^{2} q}{4} - \\frac{3 \\sqrt{2} \\pi L^{2} q}{16} + \\frac{27 L^{2} q}{8} - \\frac{5 \\sqrt{3} L q}{8} - \\frac{L q}{4}$"
      ],
      "text/plain": [
       "-3*sqrt(3)*L**2*q/4 - 3*sqrt(2)*pi*L**2*q/16 + 27*L**2*q/8 - 5*sqrt(3)*L*q/8 - L*q/4"
      ]
     },
     "execution_count": 421,
     "metadata": {},
     "output_type": "execute_result"
    }
   ],
   "source": [
    "# d_R1 = Matrix([-(3*L/2 - 3*L/2*1/sqrt(2)),-(L+3*L/2*1/sqrt(2)),0])\n",
    "d_R2 = Matrix([-(L+sqrt(3)*L/4),L/4,0])\n",
    "d_R3 = Matrix([L/sqrt(3),0,0])\n",
    "\n",
    "d_A = Matrix([-(L+3*L/2), -3*L/2, 0])\n",
    "d_D = Matrix([sqrt(3)*L/2, L/2,0])\n",
    "d_E = Matrix([-(L+sqrt(3)*L/2),L/2,0])\n",
    "d_F = Matrix([sqrt(3)*L/2, -L/2,0])\n",
    "\n",
    "tmp = crossP(d_A, A) + crossP(d_E, E) + crossP(d_R1, R_1) + crossP(d_R2, R_2)\n",
    "md(f'{crossPL(d_A, A)} + {crossPL(d_E, E)} + {crossPL(d_R1, R_1)} + {crossPL(d_R2, R_2)}')\n",
    "md(f'{crossPLs(d_A, A)} + {crossPLs(d_E, E)} + {crossPLs(d_R1, R_1)} + {crossPLs(d_R2, R_2)}')\n",
    "expand(tmp[2])\n"
   ]
  },
  {
   "cell_type": "code",
   "execution_count": 422,
   "metadata": {},
   "outputs": [
    {
     "data": {
      "text/latex": [
       "$\\displaystyle - \\frac{\\sqrt{3} L^{2} q}{2} + \\frac{11 L^{2} q}{8} + \\frac{3 \\sqrt{6} \\pi L^{2} q}{16} - \\frac{3 L q}{8} + \\frac{\\sqrt{3} L q}{4}$"
      ],
      "text/plain": [
       "-sqrt(3)*L**2*q/2 + 11*L**2*q/8 + 3*sqrt(6)*pi*L**2*q/16 - 3*L*q/8 + sqrt(3)*L*q/4"
      ]
     },
     "execution_count": 422,
     "metadata": {},
     "output_type": "execute_result"
    },
    {
     "data": {
      "text/latex": [
       "$\\displaystyle - \\frac{\\sqrt{3} L^{2} q}{2} + \\frac{7 L^{2} q}{8} + \\frac{3 \\sqrt{6} \\pi L^{2} q}{16} - \\frac{3 L q}{8} + \\frac{\\sqrt{3} L q}{4}$"
      ],
      "text/plain": [
       "-sqrt(3)*L**2*q/2 + 7*L**2*q/8 + 3*sqrt(6)*pi*L**2*q/16 - 3*L*q/8 + sqrt(3)*L*q/4"
      ]
     },
     "execution_count": 422,
     "metadata": {},
     "output_type": "execute_result"
    },
    {
     "data": {
      "text/latex": [
       "$\\displaystyle - \\frac{3 \\sqrt{3} L^{2} q}{4} - \\frac{3 \\sqrt{2} \\pi L^{2} q}{16} + \\frac{27 L^{2} q}{8} - \\frac{5 \\sqrt{3} L q}{8} - \\frac{L q}{4}$"
      ],
      "text/plain": [
       "-3*sqrt(3)*L**2*q/4 - 3*sqrt(2)*pi*L**2*q/16 + 27*L**2*q/8 - 5*sqrt(3)*L*q/8 - L*q/4"
      ]
     },
     "execution_count": 422,
     "metadata": {},
     "output_type": "execute_result"
    }
   ],
   "source": [
    "hmm_1\n",
    "hmm_2\n",
    "expand(tmp[2])"
   ]
  },
  {
   "cell_type": "code",
   "execution_count": null,
   "metadata": {},
   "outputs": [],
   "source": []
  }
 ],
 "metadata": {
  "kernelspec": {
   "display_name": "Python 3",
   "language": "python",
   "name": "python3"
  },
  "language_info": {
   "codemirror_mode": {
    "name": "ipython",
    "version": 3
   },
   "file_extension": ".py",
   "mimetype": "text/x-python",
   "name": "python",
   "nbconvert_exporter": "python",
   "pygments_lexer": "ipython3",
   "version": "3.9.6"
  },
  "orig_nbformat": 4,
  "vscode": {
   "interpreter": {
    "hash": "31f2aee4e71d21fbe5cf8b01ff0e069b9275f58929596ceb00d14d90e3e16cd6"
   }
  }
 },
 "nbformat": 4,
 "nbformat_minor": 2
}
