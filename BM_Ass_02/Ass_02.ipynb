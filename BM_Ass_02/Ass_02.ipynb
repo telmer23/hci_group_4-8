{
 "cells": [
  {
   "cell_type": "code",
   "execution_count": 47,
   "metadata": {},
   "outputs": [],
   "source": [
    "import sys\n",
    "\n",
    "if 'sympy' not in sys.modules:\n",
    "  assert('Install sympy with - pip install sympy')\n",
    "\n",
    "from sympy import Matrix, Symbol, sqrt, solve, Eq, expand, pi\n",
    "\n",
    "def crossP(vec1, vec2):\n",
    "  return vec1.col(0).cross(vec2)"
   ]
  },
  {
   "attachments": {},
   "cell_type": "markdown",
   "metadata": {},
   "source": [
    "## Angabe des Systems\n",
    "![alternatvie text](src/system.png)"
   ]
  },
  {
   "attachments": {},
   "cell_type": "markdown",
   "metadata": {},
   "source": [
    "## Angabe der Kräfte\n",
    "\n",
    "$$ F_C = \\sqrt(2)LC $$\n",
    "$$ qV_1(s_1) = q $$\n",
    "$$ qV_3(s_3) = frac{qx_3}{L} $$\n",
    "$$ qz_4(s_4) = q $$"
   ]
  },
  {
   "cell_type": "code",
   "execution_count": 48,
   "metadata": {},
   "outputs": [],
   "source": [
    "q = Symbol('q')\n",
    "L = Symbol('L')\n",
    "Ay = Symbol('A_y')\n",
    "Cx = Symbol('C_x')\n",
    "Cy = Symbol('C_y')\n",
    "Dx = Symbol('D_x')\n",
    "Ex = Symbol('E_x')\n",
    "Fx = Symbol('F_x')"
   ]
  },
  {
   "cell_type": "code",
   "execution_count": 49,
   "metadata": {},
   "outputs": [],
   "source": [
    "\n",
    "R_1 = Matrix([sqrt(2)/2 * 3*pi*L*q/4, -sqrt(2)/2 * 3*pi*L*q/4,0])\n",
    "R_2 = Matrix([0, -sqrt(3)*L/2, 0])\n",
    "R_3 = Matrix([0,-sqrt(3)*q/4,0])\n",
    "x_R3 = Matrix([L/sqrt(3),0,0])\n",
    "\n",
    "F_c = Matrix([q*L, q*L,0])\n",
    "\n",
    "A = Matrix([0,Ay,0])\n",
    "C = Matrix([-Cx,-Cy, 0])\n",
    "D = Matrix([Dx,0,0])\n",
    "E = Matrix([Ex,0,0])\n",
    "F = Matrix([Fx,0,0])"
   ]
  },
  {
   "cell_type": "code",
   "execution_count": 50,
   "metadata": {},
   "outputs": [
    {
     "data": {
      "text/latex": [
       "$\\displaystyle \\left[\\begin{matrix}- \\frac{q}{2}\\\\0\\\\0\\end{matrix}\\right]$"
      ],
      "text/plain": [
       "Matrix([\n",
       "[-q/2],\n",
       "[   0],\n",
       "[   0]])"
      ]
     },
     "execution_count": 50,
     "metadata": {},
     "output_type": "execute_result"
    }
   ],
   "source": [
    "x_Dx = Matrix([0,L/2,0])\n",
    "tmp = (crossP(x_R3, R_3) + crossP(x_Dx, D)).row(2)\n",
    "\n",
    "D[0] = solve(tmp, Dx).popitem()[1]\n",
    "D"
   ]
  },
  {
   "cell_type": "code",
   "execution_count": 51,
   "metadata": {},
   "outputs": [
    {
     "data": {
      "text/latex": [
       "$\\displaystyle \\left[\\begin{matrix}- C_{x}\\\\- L q + \\frac{\\sqrt{3} q}{4}\\\\0\\end{matrix}\\right]$"
      ],
      "text/plain": [
       "Matrix([\n",
       "[              -C_x],\n",
       "[-L*q + sqrt(3)*q/4],\n",
       "[                 0]])"
      ]
     },
     "execution_count": 51,
     "metadata": {},
     "output_type": "execute_result"
    }
   ],
   "source": [
    "# compute C_y\n",
    "t = solve(C[1]+F_c[1]+R_3[1], Cy)\n",
    "C[1] = -expand(t[0])\n",
    "C"
   ]
  },
  {
   "cell_type": "code",
   "execution_count": 52,
   "metadata": {},
   "outputs": [
    {
     "data": {
      "text/latex": [
       "$\\displaystyle \\left[\\begin{matrix}- L q + \\frac{q}{2}\\\\- L q + \\frac{\\sqrt{3} q}{4}\\\\0\\end{matrix}\\right]$"
      ],
      "text/plain": [
       "Matrix([\n",
       "[        -L*q + q/2],\n",
       "[-L*q + sqrt(3)*q/4],\n",
       "[                 0]])"
      ]
     },
     "execution_count": 52,
     "metadata": {},
     "output_type": "execute_result"
    }
   ],
   "source": [
    "x_Dx = Matrix([0, L, 0])\n",
    "x_R3 = Matrix([-L/(2*sqrt(3)),0,0])\n",
    "d_Fc = Matrix([-sqrt(3)*L/2, L/2, 0])\n",
    "d_C  = Matrix([-sqrt(3)*L/2, L/2, 0])\n",
    "\n",
    "tmp = (crossP(x_Dx, D)+crossP(x_R3, R_3)+crossP(d_Fc, F_c)+crossP(d_C, C)).row(2)\n",
    "C[0] = -solve(tmp, Cx).popitem()[1]\n",
    "\n",
    "C\n"
   ]
  },
  {
   "attachments": {},
   "cell_type": "markdown",
   "metadata": {},
   "source": [
    "$$ \\sum{F_x} = 0 $$\n",
    "$$ C_x + F_x + D_x + F_x = 0 $$"
   ]
  },
  {
   "cell_type": "code",
   "execution_count": 53,
   "metadata": {},
   "outputs": [
    {
     "data": {
      "text/latex": [
       "$\\displaystyle \\left[\\begin{matrix}0\\\\0\\\\0\\end{matrix}\\right]$"
      ],
      "text/plain": [
       "Matrix([\n",
       "[0],\n",
       "[0],\n",
       "[0]])"
      ]
     },
     "execution_count": 53,
     "metadata": {},
     "output_type": "execute_result"
    }
   ],
   "source": [
    "# tmp = solve(C[0]+F_c[0]+D[0]+F[0], Fx)\n",
    "tmp = C[0]+F_c[0]+D[0]+F[0]\n",
    "F[0] = solve(tmp, Fx)\n",
    "F"
   ]
  },
  {
   "cell_type": "code",
   "execution_count": 54,
   "metadata": {},
   "outputs": [
    {
     "data": {
      "text/latex": [
       "$\\displaystyle \\left[\\begin{matrix}- \\frac{3 \\sqrt{2} \\pi L q}{8} - L q + \\frac{q}{2}\\\\0\\\\0\\end{matrix}\\right]$"
      ],
      "text/plain": [
       "Matrix([\n",
       "[-3*sqrt(2)*pi*L*q/8 - L*q + q/2],\n",
       "[                              0],\n",
       "[                              0]])"
      ]
     },
     "execution_count": 54,
     "metadata": {},
     "output_type": "execute_result"
    }
   ],
   "source": [
    "tmp = D[0]+F[0]+F_c[0]+R_1[0]+E[0]\n",
    "E[0] = expand(solve(tmp, Ex)[0])\n",
    "E"
   ]
  },
  {
   "cell_type": "code",
   "execution_count": 55,
   "metadata": {},
   "outputs": [
    {
     "data": {
      "text/latex": [
       "$\\displaystyle \\left[\\begin{matrix}0\\\\- L q + \\frac{3 \\sqrt{2} \\pi L q}{8} + \\frac{\\sqrt{3} L}{2} + \\frac{\\sqrt{3} q}{4}\\\\0\\end{matrix}\\right]$"
      ],
      "text/plain": [
       "Matrix([\n",
       "[                                                    0],\n",
       "[-L*q + 3*sqrt(2)*pi*L*q/8 + sqrt(3)*L/2 + sqrt(3)*q/4],\n",
       "[                                                    0]])"
      ]
     },
     "execution_count": 55,
     "metadata": {},
     "output_type": "execute_result"
    }
   ],
   "source": [
    "tmp = A[1]+R_1[1]+R_2[1]+F_c[1]+R_3[1]\n",
    "A[1] = expand(solve(tmp, Ay)[0])\n",
    "A"
   ]
  },
  {
   "attachments": {},
   "cell_type": "markdown",
   "metadata": {},
   "source": [
    "$$ \\stackrel{\\curvearrowleft}{+} \\sum{M_C} = 0 $$"
   ]
  },
  {
   "cell_type": "code",
   "execution_count": 58,
   "metadata": {},
   "outputs": [
    {
     "data": {
      "text/latex": [
       "$\\displaystyle \\frac{3 \\sqrt{2} \\pi L^{2} q}{16} + 3 L^{2} q - \\frac{3 \\sqrt{3} L^{2}}{4} + \\frac{3 L^{2}}{8} - \\frac{5 \\sqrt{3} L q}{8} - \\frac{L q}{4}$"
      ],
      "text/plain": [
       "3*sqrt(2)*pi*L**2*q/16 + 3*L**2*q - 3*sqrt(3)*L**2/4 + 3*L**2/8 - 5*sqrt(3)*L*q/8 - L*q/4"
      ]
     },
     "execution_count": 58,
     "metadata": {},
     "output_type": "execute_result"
    }
   ],
   "source": [
    "d_R1 = Matrix([-(3*L/2 - 3*L/2*1/sqrt(2)),-(L+3*L/2*1/sqrt(2)),0])\n",
    "d_R2 = Matrix([-(L+sqrt(3)*L/4),L/4,0])\n",
    "d_R3 = Matrix([L/sqrt(3),0,0])\n",
    "\n",
    "d_A = Matrix([-(L+3*L/2), -3*L/2, 0])\n",
    "d_D = Matrix([sqrt(3)*L/2, L/2,0])\n",
    "d_E = Matrix([-(L+sqrt(3)*L/2),L/2,0])\n",
    "d_F = Matrix([sqrt(3)*L/2, -L/2,0])\n",
    "\n",
    "tmp = crossP(d_A, A) + crossP(d_D,D) + crossP(d_E, E) + crossP(d_F, F) + crossP(d_R1, R_1) + crossP(d_R2, R_2) + crossP(d_R3, R_3)\n",
    "expand(tmp[2])"
   ]
  }
 ],
 "metadata": {
  "kernelspec": {
   "display_name": "Python 3",
   "language": "python",
   "name": "python3"
  },
  "language_info": {
   "codemirror_mode": {
    "name": "ipython",
    "version": 3
   },
   "file_extension": ".py",
   "mimetype": "text/x-python",
   "name": "python",
   "nbconvert_exporter": "python",
   "pygments_lexer": "ipython3",
   "version": "3.9.6 (default, Aug  5 2022, 15:21:02) \n[Clang 14.0.0 (clang-1400.0.29.102)]"
  },
  "orig_nbformat": 4,
  "vscode": {
   "interpreter": {
    "hash": "31f2aee4e71d21fbe5cf8b01ff0e069b9275f58929596ceb00d14d90e3e16cd6"
   }
  }
 },
 "nbformat": 4,
 "nbformat_minor": 2
}
